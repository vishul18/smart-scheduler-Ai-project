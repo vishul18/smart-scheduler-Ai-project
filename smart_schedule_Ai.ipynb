{
  "cells": [
    {
      "cell_type": "code",
      "source": [
        "# Setup: Install Gradio\n",
        "!pip install gradio --quiet\n",
        "\n",
        "import gradio as gr\n",
        "\n",
        "# Store session data for each user (simulated context)\n",
        "user_state = {}\n",
        "\n",
        "# Simulated language model response logic\n",
        "def handle_user_input(message, state):\n",
        "    message = message.lower()\n",
        "\n",
        "    if \"schedule\" in message:\n",
        "        return \"Sure, how long should the meeting be?\", {\"intent\": \"initiate_scheduling\"}\n",
        "    elif \"hour\" in message:\n",
        "        state[\"duration\"] = \"1 hour\"\n",
        "        return \"Understood. Do you have a preferred day or time?\", state\n",
        "    elif \"tuesday\" in message:\n",
        "        state[\"preferred_time\"] = \"Tuesday afternoon\"\n",
        "        return \"I can book you at 2:00 PM or 4:30 PM. Which one would you prefer?\", state\n",
        "    else:\n",
        "        return \"Could you clarify when you'd like to meet?\", state\n",
        "\n",
        "# Simulated calendar system\n",
        "def connect_to_calendar():\n",
        "    return \"mock_auth_token\"\n",
        "\n",
        "def fetch_available_times(auth_token, length, time_slot):\n",
        "    return [\"2:00 PM\", \"4:30 PM\"]\n",
        "\n",
        "# Gradio-compatible chat handler\n",
        "def chat_logic(user_input, history):\n",
        "    try:\n",
        "        session_id = \"user123\"\n",
        "        if session_id not in user_state:\n",
        "            user_state[session_id] = {\"context\": {}}\n",
        "\n",
        "        current_context = user_state[session_id][\"context\"]\n",
        "        reply, updated_context = handle_user_input(user_input, current_context)\n",
        "        user_state[session_id][\"context\"] = updated_context\n",
        "\n",
        "        if updated_context.get(\"duration\") and updated_context.get(\"preferred_time\"):\n",
        "            token = connect_to_calendar()\n",
        "            times = fetch_available_times(token, updated_context[\"duration\"], updated_context[\"preferred_time\"])\n",
        "            reply += f\"\\nHere are the open slots: {', '.join(times)}\"\n",
        "\n",
        "        history.append((user_input, reply))\n",
        "        return \"\", history\n",
        "\n",
        "    except Exception as error:\n",
        "        history.append((\"SYSTEM\", f\"⚠️ An unexpected error occurred: {error}\"))\n",
        "        return \"\", history\n",
        "\n",
        "# Launching a Gradio chat interface using Blocks API\n",
        "with gr.Blocks() as ui:\n",
        "    gr.Markdown(\"## 📅 Smart Scheduler - AI Assistant\")\n",
        "    conversation = gr.Chatbot()\n",
        "    user_box = gr.Textbox(placeholder=\"Ask me to schedule a meeting...\")\n",
        "    reset_button = gr.Button(\"Clear\")\n",
        "\n",
        "    user_box.submit(chat_logic, [user_box, conversation], [user_box, conversation])\n",
        "    reset_button.click(lambda: [], None, conversation, queue=False)\n",
        "\n",
        "ui.launch(share=True)\n",
        "\n"
      ],
      "metadata": {
        "colab": {
          "base_uri": "https://localhost:8080/",
          "height": 645
        },
        "id": "ieD1LwebDqnb",
        "outputId": "471c2180-e604-4be2-b4b5-2cc6d384f983"
      },
      "execution_count": null,
      "outputs": [
        {
          "output_type": "stream",
          "name": "stderr",
          "text": [
            "<ipython-input-9-3389215683>:57: UserWarning: You have not specified a value for the `type` parameter. Defaulting to the 'tuples' format for chatbot messages, but this is deprecated and will be removed in a future version of Gradio. Please set type='messages' instead, which uses openai-style dictionaries with 'role' and 'content' keys.\n",
            "  conversation = gr.Chatbot()\n"
          ]
        },
        {
          "output_type": "stream",
          "name": "stdout",
          "text": [
            "Colab notebook detected. To show errors in colab notebook, set debug=True in launch()\n",
            "* Running on public URL: https://824b60399240e7933a.gradio.live\n",
            "\n",
            "This share link expires in 1 week. For free permanent hosting and GPU upgrades, run `gradio deploy` from the terminal in the working directory to deploy to Hugging Face Spaces (https://huggingface.co/spaces)\n"
          ]
        },
        {
          "output_type": "display_data",
          "data": {
            "text/plain": [
              "<IPython.core.display.HTML object>"
            ],
            "text/html": [
              "<div><iframe src=\"https://824b60399240e7933a.gradio.live\" width=\"100%\" height=\"500\" allow=\"autoplay; camera; microphone; clipboard-read; clipboard-write;\" frameborder=\"0\" allowfullscreen></iframe></div>"
            ]
          },
          "metadata": {}
        },
        {
          "output_type": "execute_result",
          "data": {
            "text/plain": []
          },
          "metadata": {},
          "execution_count": 9
        }
      ]
    }
  ],
  "metadata": {
    "colab": {
      "toc_visible": true,
      "provenance": []
    },
    "kernelspec": {
      "display_name": "Python 3",
      "name": "python3"
    }
  },
  "nbformat": 4,
  "nbformat_minor": 0
}