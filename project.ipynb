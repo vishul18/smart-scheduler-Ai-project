{
  "cells": [
    {
      "cell_type": "code",
      "source": [
        "\n",
        "\n",
        "# Step 1: Install Gradio (if not already available)\n",
        "!pip install gradio --quiet\n",
        "\n",
        "import gradio as gr\n",
        "\n",
        "# Global session memory to simulate persistent conversation\n",
        "user_sessions = {}\n",
        "\n",
        "# Basic simulated logic for intent understanding and slot filling\n",
        "def respond_to_input(user_message, context):\n",
        "    message = user_message.lower()\n",
        "\n",
        "    if \"schedule\" in message:\n",
        "        return \"Sure! How long should the meeting be?\", {\"intent\": \"schedule_meeting\"}\n",
        "    elif \"hour\" in message:\n",
        "        context[\"duration\"] = \"1 hour\"\n",
        "        return \"Noted. Do you have a specific day or time in mind?\", context\n",
        "    elif \"tuesday\" in message:\n",
        "        context[\"preferred_time\"] = \"Tuesday afternoon\"\n",
        "        return \"Great! I found 2:00 PM and 4:30 PM available. Which one works for you?\", context\n",
        "    else:\n",
        "        return \"Could you please clarify your scheduling preference?\", context\n",
        "\n",
        "# Simulated Calendar logic\n",
        "def fake_calendar_auth():\n",
        "    return \"authenticated_session\"\n",
        "\n",
        "def check_time_slots(session, duration, preference):\n",
        "    return [\"2:00 PM\", \"4:30 PM\"]\n",
        "\n",
        "# Chat handler\n",
        "def smart_scheduler_agent(message, chat_log):\n",
        "    try:\n",
        "        session_id = \"demo_user\"\n",
        "        if session_id not in user_sessions:\n",
        "            user_sessions[session_id] = {\"context\": {}}\n",
        "\n",
        "        context = user_sessions[session_id].get(\"context\", {})\n",
        "        reply, updated_context = respond_to_input(message, context)\n",
        "        user_sessions[session_id][\"context\"] = updated_context\n",
        "\n",
        "        # Suggest times if both duration and preferred time are set\n",
        "        if updated_context.get(\"duration\") and updated_context.get(\"preferred_time\"):\n",
        "            session = fake_calendar_auth()\n",
        "            available_times = check_time_slots(session, updated_context[\"duration\"], updated_context[\"preferred_time\"])\n",
        "            reply += f\"\\nAvailable time slots: {', '.join(available_times)}\"\n",
        "\n",
        "        chat_log.append((message, reply))\n",
        "        return \"\", chat_log\n",
        "\n",
        "    except Exception as err:\n",
        "        chat_log.append((\"SYSTEM\", f\"⚠️ Internal Error: {str(err)}\"))\n",
        "        return \"\", chat_log\n",
        "\n",
        "# UI via Gradio Blocks\n",
        "with gr.Blocks() as interface:\n",
        "    gr.Markdown(\"## 🗓️ Smart Scheduler AI Assistant\")\n",
        "    chat_window = gr.Chatbot()\n",
        "    text_input = gr.Textbox(placeholder=\"Ask me to schedule a meeting...\")\n",
        "    reset_btn = gr.Button(\"Clear Chat\")\n",
        "\n",
        "    text_input.submit(smart_scheduler_agent, [text_input, chat_window], [text_input, chat_window])\n",
        "    reset_btn.click(lambda: [], None, chat_window, queue=False)\n",
        "\n",
        "interface.launch(share=True)\n"
      ],
      "metadata": {
        "colab": {
          "base_uri": "https://localhost:8080/",
          "height": 645
        },
        "id": "ieD1LwebDqnb",
        "outputId": "e6aca093-587f-4b36-9b34-9d022004beee"
      },
      "execution_count": null,
      "outputs": [
        {
          "output_type": "stream",
          "name": "stderr",
          "text": [
            "<ipython-input-7-1516333952>:60: UserWarning: You have not specified a value for the `type` parameter. Defaulting to the 'tuples' format for chatbot messages, but this is deprecated and will be removed in a future version of Gradio. Please set type='messages' instead, which uses openai-style dictionaries with 'role' and 'content' keys.\n",
            "  chat_window = gr.Chatbot()\n"
          ]
        },
        {
          "output_type": "stream",
          "name": "stdout",
          "text": [
            "Colab notebook detected. To show errors in colab notebook, set debug=True in launch()\n",
            "* Running on public URL: https://d2ef229c9fb2bdf581.gradio.live\n",
            "\n",
            "This share link expires in 1 week. For free permanent hosting and GPU upgrades, run `gradio deploy` from the terminal in the working directory to deploy to Hugging Face Spaces (https://huggingface.co/spaces)\n"
          ]
        },
        {
          "output_type": "display_data",
          "data": {
            "text/plain": [
              "<IPython.core.display.HTML object>"
            ],
            "text/html": [
              "<div><iframe src=\"https://d2ef229c9fb2bdf581.gradio.live\" width=\"100%\" height=\"500\" allow=\"autoplay; camera; microphone; clipboard-read; clipboard-write;\" frameborder=\"0\" allowfullscreen></iframe></div>"
            ]
          },
          "metadata": {}
        },
        {
          "output_type": "execute_result",
          "data": {
            "text/plain": []
          },
          "metadata": {},
          "execution_count": 7
        }
      ]
    }
  ],
  "metadata": {
    "colab": {
      "toc_visible": true,
      "provenance": []
    },
    "kernelspec": {
      "display_name": "Python 3",
      "name": "python3"
    }
  },
  "nbformat": 4,
  "nbformat_minor": 0
}